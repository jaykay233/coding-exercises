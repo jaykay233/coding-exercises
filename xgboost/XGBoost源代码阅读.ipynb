{
 "cells": [
  {
   "cell_type": "markdown",
   "id": "06f4369a",
   "metadata": {},
   "source": [
    "## XGBoost"
   ]
  },
  {
   "cell_type": "code",
   "execution_count": null,
   "id": "402618c6",
   "metadata": {},
   "outputs": [],
   "source": []
  },
  {
   "cell_type": "code",
   "execution_count": null,
   "id": "ad17d731",
   "metadata": {},
   "outputs": [],
   "source": []
  },
  {
   "cell_type": "code",
   "execution_count": null,
   "id": "20105d00",
   "metadata": {},
   "outputs": [],
   "source": []
  },
  {
   "cell_type": "code",
   "execution_count": null,
   "id": "0ee55364",
   "metadata": {},
   "outputs": [],
   "source": []
  },
  {
   "cell_type": "code",
   "execution_count": 11,
   "id": "1cd918c1",
   "metadata": {},
   "outputs": [
    {
     "data": {
      "text/html": [
       "<img src='pic.jpeg', width=600, height=400>\n"
      ],
      "text/plain": [
       "<IPython.core.display.HTML object>"
      ]
     },
     "metadata": {},
     "output_type": "display_data"
    }
   ],
   "source": [
    "%%html\n",
    "<img src='pic.jpeg', width=600, height=400>"
   ]
  },
  {
   "cell_type": "markdown",
   "id": "084144e5",
   "metadata": {},
   "source": [
    "### CalcWeight\n",
    "$w_j^{*}=-\\frac{G_j}{H_j + \\lambda}$"
   ]
  },
  {
   "cell_type": "markdown",
   "id": "f291845b",
   "metadata": {},
   "source": [
    "#### 如下是原始计算权重的代码，计算之后还要进行上下界截断"
   ]
  },
  {
   "cell_type": "raw",
   "id": "a26da278",
   "metadata": {},
   "source": [
    "template <typename TrainingParams, typename T>\n",
    "XGBOOST_DEVICE inline T CalcWeight(const TrainingParams &p, T sum_grad,\n",
    "                                   T sum_hess) {\n",
    "  if (sum_hess < p.min_child_weight || sum_hess <= 0.0) {\n",
    "    return 0.0;\n",
    "  }\n",
    "  T dw = -ThresholdL1(sum_grad, p.reg_alpha) / (sum_hess + p.reg_lambda);\n",
    "  if (p.max_delta_step != 0.0f && std::abs(dw) > p.max_delta_step) {\n",
    "    dw = std::copysign(p.max_delta_step, dw);\n",
    "  }\n",
    "  return dw;\n",
    "}"
   ]
  },
  {
   "cell_type": "markdown",
   "id": "9d20f5af",
   "metadata": {},
   "source": [
    "### CalcGainGivenWeight"
   ]
  },
  {
   "cell_type": "code",
   "execution_count": null,
   "id": "20a00d16",
   "metadata": {},
   "outputs": [],
   "source": []
  },
  {
   "cell_type": "code",
   "execution_count": null,
   "id": "d6228f4a",
   "metadata": {},
   "outputs": [],
   "source": []
  },
  {
   "cell_type": "code",
   "execution_count": null,
   "id": "32b0f1c5",
   "metadata": {},
   "outputs": [],
   "source": []
  },
  {
   "cell_type": "code",
   "execution_count": null,
   "id": "21d8daaf",
   "metadata": {},
   "outputs": [],
   "source": []
  }
 ],
 "metadata": {
  "kernelspec": {
   "display_name": "Python 3 (ipykernel)",
   "language": "python",
   "name": "python3"
  },
  "language_info": {
   "codemirror_mode": {
    "name": "ipython",
    "version": 3
   },
   "file_extension": ".py",
   "mimetype": "text/x-python",
   "name": "python",
   "nbconvert_exporter": "python",
   "pygments_lexer": "ipython3",
   "version": "3.9.9"
  }
 },
 "nbformat": 4,
 "nbformat_minor": 5
}
